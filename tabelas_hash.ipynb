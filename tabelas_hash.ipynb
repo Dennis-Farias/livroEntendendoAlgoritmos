{
 "cells": [
  {
   "cell_type": "markdown",
   "metadata": {},
   "source": [
    "Tabela hash utiliza dos dicionários no Python, onde uma chave tem um valor correspondente"
   ]
  },
  {
   "cell_type": "markdown",
   "metadata": {},
   "source": [
    "Função para evitar dados duplicados: Verificar se uma pessoa está na lista. É mais rápido pois só retorna True ou False. Em uma pesquisa normal você teria que olhar nome por nome para verificar se a pessoa está na lista ou não."
   ]
  },
  {
   "cell_type": "code",
   "execution_count": 5,
   "metadata": {},
   "outputs": [],
   "source": [
    "voted = {}\n",
    "def verifica_eleitor(nome):\n",
    "    if voted.get(nome):\n",
    "        print('Mande embora!')\n",
    "    else:\n",
    "        voted[nome] = True\n",
    "        print('Deixe votar!')"
   ]
  },
  {
   "cell_type": "code",
   "execution_count": null,
   "metadata": {},
   "outputs": [],
   "source": [
    "verifica_eleitor(\"tom\")"
   ]
  },
  {
   "cell_type": "code",
   "execution_count": null,
   "metadata": {},
   "outputs": [],
   "source": [
    "verifica_eleitor(\"mike\")"
   ]
  },
  {
   "cell_type": "code",
   "execution_count": null,
   "metadata": {},
   "outputs": [],
   "source": [
    "verifica_eleitor(\"mike\")"
   ]
  },
  {
   "cell_type": "markdown",
   "metadata": {},
   "source": [
    "As páginas dos sites funcionam utilizando o cache, se a URL estiver armazenada no cache ele retorna o site. Se a URL não estiver armazenada no cache o servidor trabalha para encontrar a URL, salva no cache e então retorna o site. Exemplo em código:"
   ]
  },
  {
   "cell_type": "code",
   "execution_count": null,
   "metadata": {},
   "outputs": [],
   "source": [
    "cache = {}\n",
    "def pega_pagina(url):\n",
    "    if cache.get(url):\n",
    "        return cache[url]\n",
    "    else:\n",
    "        dados = pega_dados_do_servidor(url)\n",
    "        cache[url] = dados\n",
    "        return dados"
   ]
  }
 ],
 "metadata": {
  "kernelspec": {
   "display_name": "Python 3",
   "language": "python",
   "name": "python3"
  },
  "language_info": {
   "codemirror_mode": {
    "name": "ipython",
    "version": 3
   },
   "file_extension": ".py",
   "mimetype": "text/x-python",
   "name": "python",
   "nbconvert_exporter": "python",
   "pygments_lexer": "ipython3",
   "version": "3.10.4"
  }
 },
 "nbformat": 4,
 "nbformat_minor": 2
}
