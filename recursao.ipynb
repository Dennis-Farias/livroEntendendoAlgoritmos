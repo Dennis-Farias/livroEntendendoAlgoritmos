{
 "cells": [
  {
   "cell_type": "markdown",
   "metadata": {},
   "source": []
  },
  {
   "cell_type": "code",
   "execution_count": null,
   "metadata": {},
   "outputs": [],
   "source": [
    "def procure_pela_chave(caixa_principal):\n",
    "    pilha = main_box.crie_uma_pilha_para_busca()\n",
    "    while pilha is not vazia:\n",
    "        caixa = pilha.pegue_caixa()\n",
    "        for item in caixa:\n",
    "            if item.e_uma_caixa():\n",
    "                pilha.append(item)\n",
    "            elif item.e_uma_chave():\n",
    "                print('Achei a chave')"
   ]
  },
  {
   "cell_type": "code",
   "execution_count": null,
   "metadata": {},
   "outputs": [],
   "source": [
    "def procure_pela_chave(caixa):\n",
    "    for item in caixa:\n",
    "        if item.e_uma_caixa():\n",
    "            procure_pela_chave(item)\n",
    "        elif item.e_uma_chave():\n",
    "            print('Achei a chave')"
   ]
  },
  {
   "cell_type": "code",
   "execution_count": 1,
   "metadata": {},
   "outputs": [],
   "source": [
    "def regressiva(i):\n",
    "    print(i) \n",
    "    if i <= 1:\n",
    "        return\n",
    "    else:\n",
    "        regressiva(i-1)"
   ]
  },
  {
   "cell_type": "code",
   "execution_count": null,
   "metadata": {},
   "outputs": [],
   "source": [
    "regressiva(5)"
   ]
  },
  {
   "cell_type": "code",
   "execution_count": 14,
   "metadata": {},
   "outputs": [],
   "source": [
    "def sauda(nome):\n",
    "    print('Olá, ' + nome + '!')\n",
    "    sauda2(nome)\n",
    "    print('preparando para dizer tchau...')\n",
    "    tchau()"
   ]
  },
  {
   "cell_type": "code",
   "execution_count": 17,
   "metadata": {},
   "outputs": [],
   "source": [
    "def sauda2(nome):\n",
    "    print('Como vai ' + nome + '?')"
   ]
  },
  {
   "cell_type": "code",
   "execution_count": 18,
   "metadata": {},
   "outputs": [],
   "source": [
    "def tchau():\n",
    "    print('ok, tchau!')"
   ]
  },
  {
   "cell_type": "code",
   "execution_count": null,
   "metadata": {},
   "outputs": [],
   "source": [
    "sauda('Dennis')"
   ]
  },
  {
   "cell_type": "code",
   "execution_count": 22,
   "metadata": {},
   "outputs": [],
   "source": [
    "def fat(x):\n",
    "    if x == 1:\n",
    "        return 1\n",
    "    else:\n",
    "        return x * fat(x-1)"
   ]
  },
  {
   "cell_type": "code",
   "execution_count": null,
   "metadata": {},
   "outputs": [],
   "source": [
    "fat(5)"
   ]
  }
 ],
 "metadata": {
  "kernelspec": {
   "display_name": "Python 3",
   "language": "python",
   "name": "python3"
  },
  "language_info": {
   "codemirror_mode": {
    "name": "ipython",
    "version": 3
   },
   "file_extension": ".py",
   "mimetype": "text/x-python",
   "name": "python",
   "nbconvert_exporter": "python",
   "pygments_lexer": "ipython3",
   "version": "3.10.4"
  }
 },
 "nbformat": 4,
 "nbformat_minor": 2
}
