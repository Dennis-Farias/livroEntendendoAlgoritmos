{
 "cells": [
  {
   "cell_type": "markdown",
   "metadata": {},
   "source": [
    "Na ordenação por seleção você consegue ordenar sua lista de músicas pelas mais tocadas, ou então fazer uma ordenação do menor para o maior número."
   ]
  },
  {
   "cell_type": "code",
   "execution_count": 2,
   "metadata": {},
   "outputs": [],
   "source": [
    "def buscaMenor(arr):\n",
    "    menor = arr[0]\n",
    "    menor_indice = 0\n",
    "    for i in range(1, len(arr)):\n",
    "        if arr[i] < menor:\n",
    "            menor = arr[i]\n",
    "            menor_indice = i\n",
    "    return menor_indice"
   ]
  },
  {
   "cell_type": "code",
   "execution_count": null,
   "metadata": {},
   "outputs": [],
   "source": [
    "buscaMenor([5,2,8,1,3])"
   ]
  },
  {
   "cell_type": "code",
   "execution_count": 27,
   "metadata": {},
   "outputs": [],
   "source": [
    "def ordenacaoporSelecao(arr):\n",
    "    novoArr = []\n",
    "    for i in range(len(arr)):\n",
    "        menor = buscaMenor(arr)\n",
    "        novoArr.append(arr.pop(menor))\n",
    "    return novoArr"
   ]
  },
  {
   "cell_type": "code",
   "execution_count": null,
   "metadata": {},
   "outputs": [],
   "source": [
    "ordenacaoporSelecao([5,3,6,2,10])"
   ]
  }
 ],
 "metadata": {
  "kernelspec": {
   "display_name": "Python 3",
   "language": "python",
   "name": "python3"
  },
  "language_info": {
   "codemirror_mode": {
    "name": "ipython",
    "version": 3
   },
   "file_extension": ".py",
   "mimetype": "text/x-python",
   "name": "python",
   "nbconvert_exporter": "python",
   "pygments_lexer": "ipython3",
   "version": "3.10.4"
  }
 },
 "nbformat": 4,
 "nbformat_minor": 2
}
