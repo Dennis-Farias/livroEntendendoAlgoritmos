{
 "cells": [
  {
   "cell_type": "markdown",
   "metadata": {},
   "source": [
    "Pesquisa binária = você consegue reduzir o número de etapas para encontrar algo em uma lista ordenada. \n",
    "Você chuta um número intermediário e elimina metade dos números restantes a cada vez.\n",
    "Por exemplo encontrar de 1 a 100 o número 25 (item) \n",
    "100/2 = 50, 50 é maior ou menor que o item? Maior, então divide novamente.\n",
    "50/2 = 25, 25 é igual ao item que nós estamos procurando\n",
    "Buscando o item 75:\n",
    "100/2, 50. 50 é menor que 75. Eliminamos todos os números menores que 50.\n",
    "A próxima tentativa é o número intermediário entre 50 e 100 = 75, encontramos o item."
   ]
  },
  {
   "cell_type": "code",
   "execution_count": 2,
   "metadata": {},
   "outputs": [],
   "source": [
    "def pesquisa_binaria(lista, item):\n",
    "    baixo = 0\n",
    "    alto = len(lista) - 1\n",
    "\n",
    "    while baixo <= alto:\n",
    "        meio = (baixo + alto) // 2\n",
    "        chute = lista[meio]\n",
    "        if chute == item:\n",
    "            return meio\n",
    "        if chute > item:\n",
    "            alto = meio - 1\n",
    "        else:\n",
    "            baixo = meio + 1\n",
    "    return None"
   ]
  },
  {
   "cell_type": "code",
   "execution_count": 5,
   "metadata": {},
   "outputs": [
    {
     "name": "stdout",
     "output_type": "stream",
     "text": [
      "O item 5 está na posição 2 da lista [1, 3, 5, 7, 9].\n"
     ]
    }
   ],
   "source": [
    "minha_lista = [1, 3, 5, 7, 9]\n",
    "item = 5\n",
    "print(f\"O item {item} está na posição {pesquisa_binaria(minha_lista, item)} da lista {minha_lista}.\")"
   ]
  }
 ],
 "metadata": {
  "kernelspec": {
   "display_name": "Python 3",
   "language": "python",
   "name": "python3"
  },
  "language_info": {
   "codemirror_mode": {
    "name": "ipython",
    "version": 3
   },
   "file_extension": ".py",
   "mimetype": "text/x-python",
   "name": "python",
   "nbconvert_exporter": "python",
   "pygments_lexer": "ipython3",
   "version": "3.10.4"
  }
 },
 "nbformat": 4,
 "nbformat_minor": 2
}
